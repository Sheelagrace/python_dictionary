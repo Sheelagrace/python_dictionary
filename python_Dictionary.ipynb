{
 "cells": [
  {
   "cell_type": "code",
   "execution_count": 1,
   "id": "d6a6d288",
   "metadata": {},
   "outputs": [
    {
     "data": {
      "text/plain": [
       "{'Name': 'Abhay', 'Age': 30, 'Salary': 32000, 'Company': 'Accenture'}"
      ]
     },
     "execution_count": 1,
     "metadata": {},
     "output_type": "execute_result"
    }
   ],
   "source": [
    "Employee={\"Name\":\"Abhay\",\"Age\":30,\"Salary\":32000,\"Company\":\"Accenture\"}\n",
    "Employee"
   ]
  },
  {
   "cell_type": "code",
   "execution_count": 2,
   "id": "88885e65",
   "metadata": {},
   "outputs": [
    {
     "data": {
      "text/plain": [
       "dict"
      ]
     },
     "execution_count": 2,
     "metadata": {},
     "output_type": "execute_result"
    }
   ],
   "source": [
    "type(Employee)"
   ]
  },
  {
   "cell_type": "code",
   "execution_count": null,
   "id": "9cca2c0d",
   "metadata": {},
   "outputs": [],
   "source": [
    "Name,Age,Salary,company -->keys(Before :)\n",
    "Abahy,30,32000,Accenture --> Values(After :)\n"
   ]
  },
  {
   "cell_type": "markdown",
   "id": "5d4c2c57",
   "metadata": {},
   "source": [
    "### Dictionary has key, Value, Pair, datastructure\n",
    "### dictionary has curly brackets"
   ]
  },
  {
   "cell_type": "code",
   "execution_count": 4,
   "id": "aa071c84",
   "metadata": {},
   "outputs": [
    {
     "ename": "KeyError",
     "evalue": "0",
     "output_type": "error",
     "traceback": [
      "\u001b[1;31m---------------------------------------------------------------------------\u001b[0m",
      "\u001b[1;31mKeyError\u001b[0m                                  Traceback (most recent call last)",
      "Cell \u001b[1;32mIn[4], line 1\u001b[0m\n\u001b[1;32m----> 1\u001b[0m Employee[\u001b[38;5;241m0\u001b[39m]\n",
      "\u001b[1;31mKeyError\u001b[0m: 0"
     ]
    }
   ],
   "source": [
    "Employee[0]"
   ]
  },
  {
   "cell_type": "markdown",
   "id": "484db010",
   "metadata": {},
   "source": [
    "### In dictionary there is no Index like array, list, tuple\n"
   ]
  },
  {
   "cell_type": "code",
   "execution_count": 6,
   "id": "ff588e4a",
   "metadata": {},
   "outputs": [
    {
     "data": {
      "text/plain": [
       "30"
      ]
     },
     "execution_count": 6,
     "metadata": {},
     "output_type": "execute_result"
    }
   ],
   "source": [
    "Employee[\"Age\"]"
   ]
  },
  {
   "cell_type": "markdown",
   "id": "df4dd5df",
   "metadata": {},
   "source": [
    "### if you write a key instead of index it will work"
   ]
  },
  {
   "cell_type": "code",
   "execution_count": 7,
   "id": "1901f924",
   "metadata": {},
   "outputs": [
    {
     "data": {
      "text/plain": [
       "'Accenture'"
      ]
     },
     "execution_count": 7,
     "metadata": {},
     "output_type": "execute_result"
    }
   ],
   "source": [
    "Employee[\"Company\"]"
   ]
  },
  {
   "cell_type": "code",
   "execution_count": 8,
   "id": "0b52cbbe",
   "metadata": {},
   "outputs": [
    {
     "ename": "KeyError",
     "evalue": "30",
     "output_type": "error",
     "traceback": [
      "\u001b[1;31m---------------------------------------------------------------------------\u001b[0m",
      "\u001b[1;31mKeyError\u001b[0m                                  Traceback (most recent call last)",
      "Cell \u001b[1;32mIn[8], line 1\u001b[0m\n\u001b[1;32m----> 1\u001b[0m Employee[\u001b[38;5;241m30\u001b[39m]\n",
      "\u001b[1;31mKeyError\u001b[0m: 30"
     ]
    }
   ],
   "source": [
    "Employee[30]"
   ]
  },
  {
   "cell_type": "markdown",
   "id": "2885c4c8",
   "metadata": {},
   "source": [
    "### Value can be retrieved using the key but we cannot retrieve key by value"
   ]
  },
  {
   "cell_type": "code",
   "execution_count": 10,
   "id": "d112f887",
   "metadata": {},
   "outputs": [
    {
     "data": {
      "text/plain": [
       "{'Name': 'Abhay', 'Age': 30, 'Salary': 32000, 'Company': 'Accenture'}"
      ]
     },
     "execution_count": 10,
     "metadata": {},
     "output_type": "execute_result"
    }
   ],
   "source": [
    "Employee"
   ]
  },
  {
   "cell_type": "code",
   "execution_count": null,
   "id": "ac137b80",
   "metadata": {},
   "outputs": [],
   "source": [
    "del Employee[\"Name\"]"
   ]
  },
  {
   "cell_type": "code",
   "execution_count": 17,
   "id": "ef9bb3f5",
   "metadata": {},
   "outputs": [
    {
     "data": {
      "text/plain": [
       "{'Age': 30, 'Salary': 32000, 'Company': 'Accenture'}"
      ]
     },
     "execution_count": 17,
     "metadata": {},
     "output_type": "execute_result"
    }
   ],
   "source": [
    "Employee"
   ]
  },
  {
   "cell_type": "code",
   "execution_count": 18,
   "id": "071712d9",
   "metadata": {},
   "outputs": [
    {
     "data": {
      "text/plain": [
       "{'Age': 30, 'Salary': 32000, 'Company': 'Accenture', 'Name': 'Piyush'}"
      ]
     },
     "execution_count": 18,
     "metadata": {},
     "output_type": "execute_result"
    }
   ],
   "source": [
    "Employee[\"Name\"]=\"Piyush\"\n",
    "Employee"
   ]
  },
  {
   "cell_type": "code",
   "execution_count": 19,
   "id": "17c768f6",
   "metadata": {},
   "outputs": [
    {
     "data": {
      "text/plain": [
       "{'Age': 30,\n",
       " 'Salary': 32000,\n",
       " 'Company': 'Accenture',\n",
       " 'Name': 'Piyush',\n",
       " 'Gender': 'Male'}"
      ]
     },
     "execution_count": 19,
     "metadata": {},
     "output_type": "execute_result"
    }
   ],
   "source": [
    "Employee[\"Gender\"]=\"Male\"\n",
    "Employee"
   ]
  },
  {
   "cell_type": "code",
   "execution_count": 21,
   "id": "13b8d411",
   "metadata": {},
   "outputs": [
    {
     "data": {
      "text/plain": [
       "{'Age': 30,\n",
       " 'Salary': 32000,\n",
       " 'Company': 'Accenture',\n",
       " 'Name': 'Piyush',\n",
       " 'Gender': 'Male',\n",
       " 'Region': 'Hyderabad'}"
      ]
     },
     "execution_count": 21,
     "metadata": {},
     "output_type": "execute_result"
    }
   ],
   "source": [
    "Employee[\"Region\"]=\"Hyderabad\"\n",
    "Employee"
   ]
  },
  {
   "cell_type": "code",
   "execution_count": null,
   "id": "38d056cb",
   "metadata": {},
   "outputs": [],
   "source": []
  }
 ],
 "metadata": {
  "kernelspec": {
   "display_name": "Python 3 (ipykernel)",
   "language": "python",
   "name": "python3"
  },
  "language_info": {
   "codemirror_mode": {
    "name": "ipython",
    "version": 3
   },
   "file_extension": ".py",
   "mimetype": "text/x-python",
   "name": "python",
   "nbconvert_exporter": "python",
   "pygments_lexer": "ipython3",
   "version": "3.11.5"
  }
 },
 "nbformat": 4,
 "nbformat_minor": 5
}
